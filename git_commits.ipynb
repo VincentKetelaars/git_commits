{
 "cells": [
  {
   "cell_type": "code",
   "execution_count": null,
   "metadata": {
    "collapsed": true
   },
   "outputs": [],
   "source": [
    "import pandas as pd\n",
    "import numpy as np\n",
    "from datetime import datetime as DateTime\n",
    "import calendar\n",
    "import matplotlib\n",
    "import matplotlib.pyplot as plt\n",
    "import matplotlib.dates as mdates"
   ]
  },
  {
   "cell_type": "code",
   "execution_count": null,
   "metadata": {
    "collapsed": true
   },
   "outputs": [],
   "source": [
    "# Use this command to get the commit logs from your repo\n",
    "# git log --oneline --pretty=^\"%h,%an,%ae,%aI,\\\"%s\\\",\" --shortstat |grep -v \\| |  tr \"\\n\" \" \" | tr \"^\" \"\\n\" | sed -E 's/insertion.*\\+\\)//g' | sed -E 's/files? changed//g' | sed -E 's/deletion.*\\-\\)//g' > commits.csv"
   ]
  },
  {
   "cell_type": "code",
   "execution_count": null,
   "metadata": {
    "collapsed": true
   },
   "outputs": [],
   "source": [
    "df = pd.read_csv('commits.csv')\n",
    "df['files changed'] = pd.to_numeric(df['files changed'], errors='coerce')"
   ]
  },
  {
   "cell_type": "code",
   "execution_count": null,
   "metadata": {
    "collapsed": true
   },
   "outputs": [],
   "source": []
  },
  {
   "cell_type": "code",
   "execution_count": null,
   "metadata": {},
   "outputs": [],
   "source": [
    "names = {}\n",
    "df['Name'] = df['name'].apply(lambda x: names.get(x, x))"
   ]
  },
  {
   "cell_type": "code",
   "execution_count": null,
   "metadata": {
    "collapsed": true
   },
   "outputs": [],
   "source": [
    "df['datetime'] = pd.to_datetime(df['datetime'])\n",
    "df = df.set_index('datetime')\n",
    "df = df.tz_localize('UTC').tz_convert('Asia/Singapore')"
   ]
  },
  {
   "cell_type": "code",
   "execution_count": null,
   "metadata": {
    "collapsed": true
   },
   "outputs": [],
   "source": []
  },
  {
   "cell_type": "code",
   "execution_count": null,
   "metadata": {
    "collapsed": true
   },
   "outputs": [],
   "source": [
    "dates = matplotlib.dates.date2num(df.index.date)\n",
    "plt.plot_date(dates, df['files changed'])\n",
    "plt.show()"
   ]
  },
  {
   "cell_type": "code",
   "execution_count": null,
   "metadata": {
    "collapsed": true
   },
   "outputs": [],
   "source": [
    "# years = mdates.YearLocator()   # every year\n",
    "# months = mdates.MonthLocator()  # every month\n",
    "# yearsFmt = mdates.DateFormatter('%Y')\n",
    "\n",
    "counts = df.groupby('Name')['Commit'].count()\n",
    "contributors = counts[counts > 5].index.values\n",
    "fdf = df[df['Name'].isin(contributors)]\n",
    "xticks = pd.date_range(start=fdf.index.min(), end=fdf.index.max(), freq='AS')\n",
    "commitsByNameOverTime = fdf[fdf['Name'].isin(contributors)].groupby(\n",
    "        [fdf.index.year, fdf.index.month, fdf['Name']]\n",
    "    )['Name'].count().unstack('Name')\n",
    "\n",
    "commitsByNameOverTime.index.names = ['year','month']\n",
    "ax = commitsByNameOverTime.plot(kind=\"bar\", stacked=True)\n",
    "\n",
    "# format the ticks\n",
    "ax.set_xlabel('time')\n",
    "ax.set_ylabel('commits')\n",
    "# ax.set_xticks()\n",
    "# ax.set_xticklabels([x.strftime('%Y') for x in xticks])\n",
    "# ax.set_xticklabels([], minor=True)\n",
    "# ax.xaxis.set_major_locator(years)\n",
    "# ax.xaxis.set_major_formatter(yearsFmt)\n",
    "# ax.xaxis.set_minor_locator(months)\n",
    "# ax.xaxis.grid(True)\n",
    "\n",
    "plt.legend(loc=(1.04,0))\n",
    "plt.show()"
   ]
  },
  {
   "cell_type": "code",
   "execution_count": null,
   "metadata": {
    "collapsed": true
   },
   "outputs": [],
   "source": [
    "commitsByNameByHour = fdf.groupby(\n",
    "        [fdf.index.hour, fdf['Name']]\n",
    "    )['Name'].count().unstack('Name')\n",
    "\n",
    "commitsByNameByHour.index.names = ['hour']\n",
    "ax = commitsByNameByHour.plot(kind=\"bar\", stacked=True)\n",
    "\n",
    "ax.set_xlabel('hour')\n",
    "ax.set_ylabel('commits')\n",
    "\n",
    "plt.legend(loc=(1.04,0))\n",
    "plt.show()"
   ]
  },
  {
   "cell_type": "code",
   "execution_count": null,
   "metadata": {
    "collapsed": true
   },
   "outputs": [],
   "source": [
    "commitsByNameByHour = fdf.groupby(\n",
    "        [fdf.index.weekday, fdf['Name']]\n",
    "    )['Name'].count().unstack('Name')\n",
    "\n",
    "commitsByNameByHour.index.names = ['hour']\n",
    "ax = commitsByNameByHour.plot(kind=\"bar\", stacked=True)\n",
    "\n",
    "ax.set_xlabel('day of week')\n",
    "ax.set_xticklabels([calendar.day_name[i] for i in range(0, 7)])\n",
    "ax.set_ylabel('commits')\n",
    "\n",
    "plt.legend(loc=(1.04,0))\n",
    "plt.show()"
   ]
  },
  {
   "cell_type": "code",
   "execution_count": null,
   "metadata": {
    "collapsed": true
   },
   "outputs": [],
   "source": []
  },
  {
   "cell_type": "code",
   "execution_count": null,
   "metadata": {
    "collapsed": true
   },
   "outputs": [],
   "source": []
  }
 ],
 "metadata": {
  "kernelspec": {
   "display_name": "Python 3",
   "language": "python",
   "name": "python3"
  },
  "language_info": {
   "codemirror_mode": {
    "name": "ipython",
    "version": 3
   },
   "file_extension": ".py",
   "mimetype": "text/x-python",
   "name": "python",
   "nbconvert_exporter": "python",
   "pygments_lexer": "ipython3",
   "version": "3.6.1"
  }
 },
 "nbformat": 4,
 "nbformat_minor": 2
}
